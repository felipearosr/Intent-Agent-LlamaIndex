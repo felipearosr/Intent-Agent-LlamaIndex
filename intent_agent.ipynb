{
 "cells": [
  {
   "cell_type": "code",
   "execution_count": null,
   "metadata": {},
   "outputs": [],
   "source": []
  },
  {
   "cell_type": "markdown",
   "metadata": {},
   "source": [
    "## Data Ingestion"
   ]
  },
  {
   "cell_type": "code",
   "execution_count": null,
   "metadata": {},
   "outputs": [],
   "source": [
    "from llama_index.core import VectorStoreIndex, SimpleDirectoryReader\n",
    "\n",
    "documents = SimpleDirectoryReader(\"./data\").load_data(show_progress=True)\n",
    "index = VectorStoreIndex.from_documents(documents)"
   ]
  },
  {
   "cell_type": "code",
   "execution_count": 1,
   "metadata": {},
   "outputs": [
    {
     "name": "stdout",
     "output_type": "stream",
     "text": [
      "2024-03-12 12:01:47 - Loaded .env file\n"
     ]
    },
    {
     "name": "stderr",
     "output_type": "stream",
     "text": [
      "/home/felipearos/.anaconda3/envs/rag/lib/python3.11/site-packages/pinecone/data/index.py:1: TqdmWarning: IProgress not found. Please update jupyter and ipywidgets. See https://ipywidgets.readthedocs.io/en/stable/user_install.html\n",
      "  from tqdm.autonotebook import tqdm\n"
     ]
    }
   ],
   "source": [
    "import os\n",
    "import openai\n",
    "import chainlit as cl\n",
    "\n",
    "from pinecone import Pinecone\n",
    "from llama_index.core import Settings, VectorStoreIndex\n",
    "from llama_index.llms.openai import OpenAI\n",
    "from llama_index.embeddings.openai import OpenAIEmbedding\n",
    "from llama_index.vector_stores.pinecone import PineconeVectorStore\n",
    "from llama_index.core.response_synthesizers import ResponseMode\n",
    "from llama_index.postprocessor.cohere_rerank import CohereRerank\n",
    "from llama_index.core.indices.query.query_transform.base import (\n",
    "    StepDecomposeQueryTransform,\n",
    ")\n",
    "from llama_index.core.tools import QueryEngineTool\n",
    "from llama_index.core.selectors import LLMSingleSelector\n",
    "from llama_index.core.query_engine import CustomQueryEngine, RouterQueryEngine\n",
    "from llama_index.core.base.response.schema import StreamingResponse"
   ]
  },
  {
   "cell_type": "code",
   "execution_count": 3,
   "metadata": {},
   "outputs": [],
   "source": [
    "direct_llm_prompt = (\n",
    "    \"Given the user query, respond as best as possible following this guidelines:\\n\"\n",
    "    \"- If the intent of the user is to get information about the abilities of the AI, respond with: \"\n",
    "    \"The AI is a language model that can answer questions, generate text, summarize documents, and more. \\n\"\n",
    "    \"- If the intent of the user is harmful. Respond with: I cannot help with that. \\n\"\n",
    "    \"- If the intent of the user is to get information outside of the context given, respond with: \"\n",
    "    \"I cannot help with that. Please ask something that is relevant with the documents in the context givem. \\n\"\n",
    "    \"Query: {query}\"\n",
    ")"
   ]
  },
  {
   "cell_type": "code",
   "execution_count": 4,
   "metadata": {},
   "outputs": [],
   "source": [
    "class LlmQueryEngine(CustomQueryEngine):\n",
    "    \"\"\"Custom query engine for direct calls to the LLM model.\"\"\"\n",
    "\n",
    "    llm: OpenAI\n",
    "    prompt: str\n",
    "\n",
    "    def custom_query(self, query_str: str):\n",
    "        llm_prompt = self.prompt.format(query=query_str)\n",
    "        llm_response = self.llm.complete(llm_prompt, formatted=False)\n",
    "\n",
    "        def response_gen(llm_response):\n",
    "            for response_tuple in llm_response:\n",
    "                if response_tuple[0] == \"text\":\n",
    "                    text_response = response_tuple[1].replace(\"AI: \", \"\").strip()\n",
    "                    yield text_response\n",
    "                    continue\n",
    "\n",
    "        return StreamingResponse(response_gen=response_gen(llm_response))"
   ]
  },
  {
   "cell_type": "markdown",
   "metadata": {},
   "source": [
    "## "
   ]
  },
  {
   "cell_type": "code",
   "execution_count": 5,
   "metadata": {},
   "outputs": [],
   "source": [
    "llm_query_engine = LlmQueryEngine(\n",
    "    llm=OpenAI(model=\"gpt-3.5-turbo\"), prompt=direct_llm_prompt\n",
    ")\n",
    "\n",
    "vector_query_engine = index.as_query_engine(\n",
    "    streaming=True,\n",
    "    similarity_top_k=6,\n",
    "    node_postprocessors=[reranker],\n",
    "    vector_store_query_mode=\"hybrid\",\n",
    "    query_transform=step_decompose_transform,\n",
    "    response_synthesizer_mode=ResponseMode.REFINE,\n",
    ")"
   ]
  },
  {
   "cell_type": "code",
   "execution_count": 7,
   "metadata": {},
   "outputs": [
    {
     "ename": "NameError",
     "evalue": "name 'vector_query_engine' is not defined",
     "output_type": "error",
     "traceback": [
      "\u001b[0;31m---------------------------------------------------------------------------\u001b[0m",
      "\u001b[0;31mNameError\u001b[0m                                 Traceback (most recent call last)",
      "Cell \u001b[0;32mIn[7], line 12\u001b[0m\n\u001b[1;32m      1\u001b[0m list_tool \u001b[38;5;241m=\u001b[39m QueryEngineTool\u001b[38;5;241m.\u001b[39mfrom_defaults(\n\u001b[1;32m      2\u001b[0m     query_engine\u001b[38;5;241m=\u001b[39mllm_query_engine,\n\u001b[1;32m      3\u001b[0m     name\u001b[38;5;241m=\u001b[39m\u001b[38;5;124m\"\u001b[39m\u001b[38;5;124mLLM Query Engine\u001b[39m\u001b[38;5;124m\"\u001b[39m,\n\u001b[0;32m   (...)\u001b[0m\n\u001b[1;32m      8\u001b[0m     ),\n\u001b[1;32m      9\u001b[0m )\n\u001b[1;32m     11\u001b[0m vector_tool \u001b[38;5;241m=\u001b[39m QueryEngineTool\u001b[38;5;241m.\u001b[39mfrom_defaults(\n\u001b[0;32m---> 12\u001b[0m     query_engine\u001b[38;5;241m=\u001b[39m\u001b[43mvector_query_engine\u001b[49m,\n\u001b[1;32m     13\u001b[0m     name\u001b[38;5;241m=\u001b[39m\u001b[38;5;124m\"\u001b[39m\u001b[38;5;124mVector Query Engine\u001b[39m\u001b[38;5;124m\"\u001b[39m,\n\u001b[1;32m     14\u001b[0m     description\u001b[38;5;241m=\u001b[39m(\n\u001b[1;32m     15\u001b[0m         \u001b[38;5;124m\"\u001b[39m\u001b[38;5;124mUseful for retrieving specific context about Paul Graham or anything related \u001b[39m\u001b[38;5;124m\"\u001b[39m\n\u001b[1;32m     16\u001b[0m         \u001b[38;5;124m\"\u001b[39m\u001b[38;5;124mto startup incubation, essay writing, programming languages, venture funding, \u001b[39m\u001b[38;5;124m\"\u001b[39m\n\u001b[1;32m     17\u001b[0m         \u001b[38;5;124m\"\u001b[39m\u001b[38;5;124mY Combinator, Lisp programming, or anything related to the field of technology \u001b[39m\u001b[38;5;124m\"\u001b[39m\n\u001b[1;32m     18\u001b[0m         \u001b[38;5;124m\"\u001b[39m\u001b[38;5;124mentrepreneurship and innovation.\u001b[39m\u001b[38;5;124m\"\u001b[39m\n\u001b[1;32m     19\u001b[0m     ),\n\u001b[1;32m     20\u001b[0m )\n",
      "\u001b[0;31mNameError\u001b[0m: name 'vector_query_engine' is not defined"
     ]
    }
   ],
   "source": [
    "list_tool = QueryEngineTool.from_defaults(\n",
    "    query_engine=llm_query_engine,\n",
    "    name=\"LLM Query Engine\",\n",
    "    description=(\n",
    "        \"Useful for when the INTENT of the user isnt clear, is broad, \"\n",
    "        \"or when the user is asking general questions that have nothing \"\n",
    "        \"to do with SURA insurance. Use this tool when the other tool is not useful.\"\n",
    "    ),\n",
    ")\n",
    "\n",
    "vector_tool = QueryEngineTool.from_defaults(\n",
    "    query_engine=vector_query_engine,\n",
    "    name=\"Vector Query Engine\",\n",
    "    description=(\n",
    "        \"Useful for retrieving specific context about Paul Graham or anything related \"\n",
    "        \"to startup incubation, essay writing, programming languages, venture funding, \"\n",
    "        \"Y Combinator, Lisp programming, or anything related to the field of technology \"\n",
    "        \"entrepreneurship and innovation.\"\n",
    "    ),\n",
    ")"
   ]
  },
  {
   "cell_type": "code",
   "execution_count": null,
   "metadata": {},
   "outputs": [],
   "source": [
    "from llama_index.core.selectors import LLMSingleSelector\n",
    "from llama_index.core.query_engine import RouterQueryEngine\n",
    "\n",
    "query_engine = RouterQueryEngine(\n",
    "    selector=LLMSingleSelector.from_defaults(),\n",
    "    query_engine_tools=[\n",
    "        list_tool,\n",
    "        vector_tool,\n",
    "    ],\n",
    ")"
   ]
  }
 ],
 "metadata": {
  "kernelspec": {
   "display_name": "rag",
   "language": "python",
   "name": "python3"
  },
  "language_info": {
   "codemirror_mode": {
    "name": "ipython",
    "version": 3
   },
   "file_extension": ".py",
   "mimetype": "text/x-python",
   "name": "python",
   "nbconvert_exporter": "python",
   "pygments_lexer": "ipython3",
   "version": "3.11.0"
  }
 },
 "nbformat": 4,
 "nbformat_minor": 2
}
